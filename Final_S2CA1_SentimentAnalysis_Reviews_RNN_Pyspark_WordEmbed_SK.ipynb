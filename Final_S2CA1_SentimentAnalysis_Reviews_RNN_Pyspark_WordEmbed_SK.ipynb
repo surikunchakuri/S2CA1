{
 "cells": [
  {
   "cell_type": "markdown",
   "metadata": {},
   "source": [
    "# Research Paper: Analyzing the Impactd of Word Embedding Techniques & Usage of Pyspark libraries on RNN Performance to perform Sentiment Analysis against traditional ways: A compartive study using Amazon reviews Dataset"
   ]
  },
  {
   "cell_type": "markdown",
   "metadata": {},
   "source": [
    "### Methodology  \n",
    "\n",
    "**Text Cleaning and Preprocessing**:\n",
    "\n",
    "Remove unnecessary characters, convert text to lowercase, and handle punctuation.\n",
    "Eliminate special characters and numbers from the text.\n",
    "\n",
    "**Tokenization**:\n",
    "\n",
    "Break down the cleaned text into individual words or tokens.\n",
    "Each sentence is converted into a list of tokens. For instance, \"The quick brown fox\" is tokenized into ['The', 'quick', 'brown', 'fox'].\n",
    "\n",
    "**Word Embedding**:  **(METHOD 2 )**\n",
    "\n",
    "Apply word embedding techniques like Word2Vec, GloVe, etc. Word2Vec used in this Research\n",
    "These techniques convert each token into a high-dimensional vector representation.\n",
    "\n",
    "\n",
    "**RNN Model Building**\n",
    "\n",
    "Tokenized data used as input for Method 1 in traditional training of RNN Model\n",
    "Word Embedding technique is used input for Method 2 for RNN model traininng.\n",
    "\n",
    "**Model Training**:\n",
    "\n",
    "Train your model using the vectors as features.\n",
    "The model learns to understand the relationships between words and their sentiments based on the representations.\n",
    "\n",
    "**Comparison of both Methods** : \n",
    "Performance difference of both traditional method and Word Embedding Technique is detailed at the end. "
   ]
  },
  {
   "cell_type": "markdown",
   "metadata": {},
   "source": [
    "## Activate the environment to run the code for compatible version alignment"
   ]
  },
  {
   "cell_type": "code",
   "execution_count": 40,
   "metadata": {},
   "outputs": [
    {
     "name": "stdout",
     "output_type": "stream",
     "text": [
      "\n",
      "Note: you may need to restart the kernel to use updated packages.\n"
     ]
    }
   ],
   "source": [
    "conda activate pyspark_env"
   ]
  },
  {
   "cell_type": "markdown",
   "metadata": {
    "id": "Q6CIbk0HrgMb"
   },
   "source": [
    "# Import necessary packages and library"
   ]
  },
  {
   "cell_type": "code",
   "execution_count": 41,
   "metadata": {
    "id": "9qfDZcZRGB-B"
   },
   "outputs": [],
   "source": [
    "## Method 1 used libraries \n",
    "\n",
    "from pyspark.sql import SparkSession\n",
    "import pandas as pd\n",
    "import tensorflow as tf\n",
    "import seaborn as sns\n",
    "from tensorflow.keras.preprocessing.text import Tokenizer\n",
    "from tensorflow.keras.preprocessing.sequence import pad_sequences\n",
    "from tensorflow.keras.models import Sequential\n",
    "from tensorflow.keras.layers import Embedding, LSTM, Dense\n",
    "from sklearn.model_selection import train_test_split\n",
    "from sklearn.metrics import accuracy_score, precision_score, recall_score, f1_score, confusion_matrix\n",
    "from sklearn.metrics import accuracy_score, precision_score, recall_score, f1_score\n",
    "import matplotlib.pyplot as plt\n",
    "import seaborn as sns\n",
    "import matplotlib.pyplot as plt\n",
    "import pyspark.sql.functions as F\n",
    "from wordcloud import WordCloud"
   ]
  },
  {
   "cell_type": "code",
   "execution_count": 42,
   "metadata": {},
   "outputs": [],
   "source": [
    "# method 2 used libraries and Packages\n",
    "from pyspark.ml.feature import Tokenizer\n",
    "from pyspark.ml.feature import IDF\n",
    "from pyspark.ml.feature import StringIndexer\n",
    "from pyspark.ml.feature import VectorAssembler\n",
    "from pyspark.ml.feature import Word2Vec\n",
    "from pyspark.ml.classification import MultilayerPerceptronClassifier\n",
    "from pyspark.ml.evaluation import MulticlassClassificationEvaluator\n",
    "from pyspark.sql.functions import when"
   ]
  },
  {
   "cell_type": "markdown",
   "metadata": {},
   "source": [
    "# Run Spark Session context locally"
   ]
  },
  {
   "cell_type": "code",
   "execution_count": 43,
   "metadata": {
    "id": "EcWwYhA3iNmw"
   },
   "outputs": [],
   "source": [
    "spark = SparkSession.builder \\\n",
    "    .appName(\"TSVImportExample\") \\\n",
    "    .getOrCreate()\n"
   ]
  },
  {
   "cell_type": "markdown",
   "metadata": {},
   "source": [
    "# Load the Dataset using Pyspark"
   ]
  },
  {
   "cell_type": "code",
   "execution_count": 44,
   "metadata": {
    "id": "gd9WO2OUGCEv"
   },
   "outputs": [],
   "source": [
    "amazon_review = \"amazon_alexa.tsv\"\n",
    "\n",
    "# Reading the TSV file into a DataFrame\n",
    "df = spark.read \\\n",
    "    .option(\"delimiter\", \"\\t\") \\\n",
    "    .option(\"header\", \"true\") \\\n",
    "    .option(\"inferSchema\", \"true\") \\\n",
    "    .csv(amazon_review)\n"
   ]
  },
  {
   "cell_type": "code",
   "execution_count": 45,
   "metadata": {
    "colab": {
     "base_uri": "https://localhost:8080/"
    },
    "id": "M8lBw2yLis3O",
    "outputId": "d3472985-89dc-45ab-d54f-7bca79292ba9"
   },
   "outputs": [
    {
     "name": "stdout",
     "output_type": "stream",
     "text": [
      "+------+---------+--------------------+--------------------+--------+\n",
      "|rating|     date|           variation|    verified_reviews|feedback|\n",
      "+------+---------+--------------------+--------------------+--------+\n",
      "|     5|31-Jul-18|    Charcoal Fabric |       Love my Echo!|       1|\n",
      "|     5|31-Jul-18|    Charcoal Fabric |           Loved it!|       1|\n",
      "|     4|31-Jul-18|      Walnut Finish |Sometimes while p...|       1|\n",
      "|     5|31-Jul-18|    Charcoal Fabric |I have had a lot ...|       1|\n",
      "|     5|31-Jul-18|    Charcoal Fabric |               Music|       1|\n",
      "|     5|31-Jul-18|Heather Gray Fabric |I received the ec...|       1|\n",
      "|     3|31-Jul-18|   Sandstone Fabric |Without having a ...|       1|\n",
      "|     5|31-Jul-18|    Charcoal Fabric |I think this is t...|       1|\n",
      "|     5|30-Jul-18|Heather Gray Fabric |         looks great|       1|\n",
      "|     5|30-Jul-18|Heather Gray Fabric |Love it! I’ve lis...|       1|\n",
      "|     5|30-Jul-18|    Charcoal Fabric |I sent it to my 8...|       1|\n",
      "|     5|30-Jul-18|    Charcoal Fabric |I love it! Learni...|       1|\n",
      "|     5|30-Jul-18|         Oak Finish |I purchased this ...|       1|\n",
      "|     5|30-Jul-18|    Charcoal Fabric |  Love, Love, Love!!|       1|\n",
      "|     5|30-Jul-18|         Oak Finish |Just what I expec...|       1|\n",
      "|     5|30-Jul-18|Heather Gray Fabric |I love it, wife h...|       1|\n",
      "|     5|30-Jul-18|Heather Gray Fabric |Really happy with...|       1|\n",
      "|     5|30-Jul-18|Heather Gray Fabric |We have only been...|       1|\n",
      "|     5|30-Jul-18|    Charcoal Fabric |We love the size ...|       1|\n",
      "|     4|30-Jul-18|   Sandstone Fabric |I liked the origi...|       1|\n",
      "+------+---------+--------------------+--------------------+--------+\n",
      "only showing top 20 rows\n",
      "\n"
     ]
    }
   ],
   "source": [
    "df.show()"
   ]
  },
  {
   "cell_type": "markdown",
   "metadata": {},
   "source": [
    "# Method 1 : Traditional Using Pandas & No Pre-Validated Embedding for RNN"
   ]
  },
  {
   "cell_type": "markdown",
   "metadata": {
    "id": "2MNdOO88rTxr"
   },
   "source": [
    "## Converting the Spark DataFrame to a Pandas DataFrame"
   ]
  },
  {
   "cell_type": "code",
   "execution_count": 46,
   "metadata": {
    "id": "eGp2NYi7XW4-"
   },
   "outputs": [],
   "source": [
    "pandas_df = df.toPandas()"
   ]
  },
  {
   "cell_type": "markdown",
   "metadata": {
    "id": "iLwNldVprXmr"
   },
   "source": [
    "## Group by rating and count the number of reviews for each rating"
   ]
  },
  {
   "cell_type": "code",
   "execution_count": 47,
   "metadata": {
    "id": "q-IJc9HMXW8H"
   },
   "outputs": [],
   "source": [
    "rating_counts = pandas_df.groupby('rating').size().reset_index(name='count')"
   ]
  },
  {
   "cell_type": "markdown",
   "metadata": {
    "id": "yR8vBJ-RrZvT"
   },
   "source": [
    "## Plotting the customer behavior based on ratings"
   ]
  },
  {
   "cell_type": "code",
   "execution_count": 48,
   "metadata": {
    "colab": {
     "base_uri": "https://localhost:8080/",
     "height": 564
    },
    "id": "X4UgmAeIXW_D",
    "outputId": "50ce257e-a3cf-4553-e725-fd7ac0620007"
   },
   "outputs": [
    {
     "data": {
      "image/png": "[encoded data removed]",
      "text/plain": [
       "<Figure size 576x432 with 1 Axes>"
      ]
     },
     "metadata": {
      "needs_background": "light"
     },
     "output_type": "display_data"
    }
   ],
   "source": [
    "plt.figure(figsize=(8, 6))\n",
    "plt.bar(rating_counts['rating'], rating_counts['count'], color='skyblue')\n",
    "plt.xlabel('Rating')\n",
    "plt.ylabel('Number of Reviews')\n",
    "plt.title('Customer Behavior Based on Ratings')\n",
    "plt.xticks(rating_counts['rating'])\n",
    "plt.show()"
   ]
  },
  {
   "cell_type": "markdown",
   "metadata": {
    "id": "7guEcQxyrQj1"
   },
   "source": [
    "## Histogram of Ratings"
   ]
  },
  {
   "cell_type": "code",
   "execution_count": 49,
   "metadata": {
    "colab": {
     "base_uri": "https://localhost:8080/",
     "height": 564
    },
    "id": "bdVXdaUHjiKc",
    "outputId": "d3c514cd-348a-46e7-cf9c-eb372b661658",
    "scrolled": true
   },
   "outputs": [
    {
     "data": {
      "image/png": "[encoded data removed]",
      "text/plain": [
       "<Figure size 576x432 with 1 Axes>"
      ]
     },
     "metadata": {
      "needs_background": "light"
     },
     "output_type": "display_data"
    }
   ],
   "source": [
    "plt.figure(figsize=(8, 6))\n",
    "plt.hist(pandas_df['rating'], bins=5, color='skyblue', alpha=0.7)\n",
    "plt.xlabel('Rating')\n",
    "plt.ylabel('Frequency')\n",
    "plt.title('Histogram of Ratings')\n",
    "plt.show()\n"
   ]
  },
  {
   "cell_type": "markdown",
   "metadata": {},
   "source": [
    "# Tokenization of text"
   ]
  },
  {
   "cell_type": "code",
   "execution_count": 50,
   "metadata": {},
   "outputs": [
    {
     "ename": "TypeError",
     "evalue": "__init__() got an unexpected keyword argument 'num_words'",
     "output_type": "error",
     "traceback": [
      "\u001b[1;31m---------------------------------------------------------------------------\u001b[0m",
      "\u001b[1;31mTypeError\u001b[0m                                 Traceback (most recent call last)",
      "\u001b[1;32m~\\AppData\\Local\\Temp/ipykernel_8436/65430191.py\u001b[0m in \u001b[0;36m<module>\u001b[1;34m\u001b[0m\n\u001b[0;32m      6\u001b[0m \u001b[1;33m\u001b[0m\u001b[0m\n\u001b[0;32m      7\u001b[0m \u001b[1;31m# Tokenize and pad sequences\u001b[0m\u001b[1;33m\u001b[0m\u001b[1;33m\u001b[0m\u001b[0m\n\u001b[1;32m----> 8\u001b[1;33m \u001b[0mtokenizer\u001b[0m \u001b[1;33m=\u001b[0m \u001b[0mTokenizer\u001b[0m\u001b[1;33m(\u001b[0m\u001b[0mnum_words\u001b[0m\u001b[1;33m=\u001b[0m\u001b[1;36m10000\u001b[0m\u001b[1;33m,\u001b[0m \u001b[0moov_token\u001b[0m\u001b[1;33m=\u001b[0m\u001b[1;34m'<OOV>'\u001b[0m\u001b[1;33m)\u001b[0m\u001b[1;33m\u001b[0m\u001b[1;33m\u001b[0m\u001b[0m\n\u001b[0m\u001b[0;32m      9\u001b[0m \u001b[0mtokenizer\u001b[0m\u001b[1;33m.\u001b[0m\u001b[0mfit_on_texts\u001b[0m\u001b[1;33m(\u001b[0m\u001b[0mreviews\u001b[0m\u001b[1;33m)\u001b[0m\u001b[1;33m\u001b[0m\u001b[1;33m\u001b[0m\u001b[0m\n\u001b[0;32m     10\u001b[0m \u001b[0msequences\u001b[0m \u001b[1;33m=\u001b[0m \u001b[0mtokenizer\u001b[0m\u001b[1;33m.\u001b[0m\u001b[0mtexts_to_sequences\u001b[0m\u001b[1;33m(\u001b[0m\u001b[0mreviews\u001b[0m\u001b[1;33m)\u001b[0m\u001b[1;33m\u001b[0m\u001b[1;33m\u001b[0m\u001b[0m\n",
      "\u001b[1;32m~\\Anaconda3\\lib\\site-packages\\pyspark\\__init__.py\u001b[0m in \u001b[0;36mwrapper\u001b[1;34m(self, *args, **kwargs)\u001b[0m\n\u001b[0;32m    137\u001b[0m             \u001b[1;32mraise\u001b[0m \u001b[0mTypeError\u001b[0m\u001b[1;33m(\u001b[0m\u001b[1;34m\"Method %s forces keyword arguments.\"\u001b[0m \u001b[1;33m%\u001b[0m \u001b[0mfunc\u001b[0m\u001b[1;33m.\u001b[0m\u001b[0m__name__\u001b[0m\u001b[1;33m)\u001b[0m\u001b[1;33m\u001b[0m\u001b[1;33m\u001b[0m\u001b[0m\n\u001b[0;32m    138\u001b[0m         \u001b[0mself\u001b[0m\u001b[1;33m.\u001b[0m\u001b[0m_input_kwargs\u001b[0m \u001b[1;33m=\u001b[0m \u001b[0mkwargs\u001b[0m\u001b[1;33m\u001b[0m\u001b[1;33m\u001b[0m\u001b[0m\n\u001b[1;32m--> 139\u001b[1;33m         \u001b[1;32mreturn\u001b[0m \u001b[0mfunc\u001b[0m\u001b[1;33m(\u001b[0m\u001b[0mself\u001b[0m\u001b[1;33m,\u001b[0m \u001b[1;33m**\u001b[0m\u001b[0mkwargs\u001b[0m\u001b[1;33m)\u001b[0m\u001b[1;33m\u001b[0m\u001b[1;33m\u001b[0m\u001b[0m\n\u001b[0m\u001b[0;32m    140\u001b[0m \u001b[1;33m\u001b[0m\u001b[0m\n\u001b[0;32m    141\u001b[0m     \u001b[1;32mreturn\u001b[0m \u001b[0mcast\u001b[0m\u001b[1;33m(\u001b[0m\u001b[0m_F\u001b[0m\u001b[1;33m,\u001b[0m \u001b[0mwrapper\u001b[0m\u001b[1;33m)\u001b[0m\u001b[1;33m\u001b[0m\u001b[1;33m\u001b[0m\u001b[0m\n",
      "\u001b[1;31mTypeError\u001b[0m: __init__() got an unexpected keyword argument 'num_words'"
     ]
    }
   ],
   "source": [
    "# Filter out None values from 'verified_reviews' column with dummy review\n",
    "reviews = [review.lower() if review is not None else \"dummy review.\" for review in pandas_df['verified_reviews']]\n",
    "\n",
    "# Join the reviews into a single string\n",
    "reviews_text = ' '.join(reviews)\n",
    "\n",
    "# Tokenize and pad sequences\n",
    "tokenizer = Tokenizer(num_words=10000, oov_token='<OOV>')\n",
    "tokenizer.fit_on_texts(reviews)\n",
    "sequences = tokenizer.texts_to_sequences(reviews)\n",
    "max_sequence_length = 100\n",
    "padded_sequences = pad_sequences(sequences, maxlen=max_sequence_length, padding='post', truncating='post')\n"
   ]
  },
  {
   "cell_type": "code",
   "execution_count": null,
   "metadata": {},
   "outputs": [],
   "source": [
    "print(len(padded_sequences), len(pandas_df['feedback']))\n"
   ]
  },
  {
   "cell_type": "markdown",
   "metadata": {
    "id": "w2cZ03RXq9Aa"
   },
   "source": [
    "# Spliting data into training and testing sets"
   ]
  },
  {
   "cell_type": "code",
   "execution_count": 51,
   "metadata": {
    "id": "tc37sUA-kOfO"
   },
   "outputs": [],
   "source": [
    "X_train, X_test, y_train, y_test = train_test_split(padded_sequences, pandas_df['feedback'], test_size=0.2, random_state=42)\n"
   ]
  },
  {
   "cell_type": "markdown",
   "metadata": {
    "id": "y7rgGdKQq5TS"
   },
   "source": [
    "# Build RNN model"
   ]
  },
  {
   "cell_type": "code",
   "execution_count": 52,
   "metadata": {
    "id": "177_1zulkOij"
   },
   "outputs": [],
   "source": [
    "model = Sequential()\n",
    "model.add(Embedding(input_dim=10000, output_dim=100, input_length=max_sequence_length))\n",
    "model.add(LSTM(128))\n",
    "model.add(Dense(1, activation='sigmoid'))\n"
   ]
  },
  {
   "cell_type": "markdown",
   "metadata": {
    "id": "afOfMzYiq136"
   },
   "source": [
    "# Compile and train the model,"
   ]
  },
  {
   "cell_type": "code",
   "execution_count": 53,
   "metadata": {
    "id": "U3CoVKaZmoqM"
   },
   "outputs": [],
   "source": [
    "model.compile(loss='binary_crossentropy', optimizer='adam', metrics=['accuracy'])\n"
   ]
  },
  {
   "cell_type": "markdown",
   "metadata": {
    "id": "_qKFjYssqx2K"
   },
   "source": [
    "# Train History track"
   ]
  },
  {
   "cell_type": "code",
   "execution_count": 54,
   "metadata": {
    "colab": {
     "base_uri": "https://localhost:8080/"
    },
    "id": "epsZjnfHoDJQ",
    "outputId": "6719d92c-7ed2-485f-ce4a-f49bc5fb5587"
   },
   "outputs": [
    {
     "name": "stdout",
     "output_type": "stream",
     "text": [
      "Epoch 1/5\n",
      "40/40 [==============================] - 6s 123ms/step - loss: 0.3376 - accuracy: 0.9012 - val_loss: 0.3185 - val_accuracy: 0.9079\n",
      "Epoch 2/5\n",
      "40/40 [==============================] - 5s 137ms/step - loss: 0.2770 - accuracy: 0.9210 - val_loss: 0.3112 - val_accuracy: 0.9079\n",
      "Epoch 3/5\n",
      "40/40 [==============================] - 6s 144ms/step - loss: 0.2702 - accuracy: 0.9222 - val_loss: 0.2998 - val_accuracy: 0.9095\n",
      "Epoch 4/5\n",
      "40/40 [==============================] - 6s 143ms/step - loss: 0.2620 - accuracy: 0.9278 - val_loss: 0.3091 - val_accuracy: 0.9048\n",
      "Epoch 5/5\n",
      "40/40 [==============================] - 6s 143ms/step - loss: 0.2598 - accuracy: 0.9282 - val_loss: 0.2968 - val_accuracy: 0.9111\n"
     ]
    }
   ],
   "source": [
    "history = model.fit(X_train, y_train, validation_data=(X_test, y_test), epochs=5, batch_size=64)\n"
   ]
  },
  {
   "cell_type": "markdown",
   "metadata": {
    "id": "qe-dG-AgqsqK"
   },
   "source": [
    "# Prediction on the test data"
   ]
  },
  {
   "cell_type": "code",
   "execution_count": 55,
   "metadata": {
    "colab": {
     "base_uri": "https://localhost:8080/"
    },
    "id": "jKuDajIRmotT",
    "outputId": "eb79c02e-9629-4be9-db41-3749cfd0cf33"
   },
   "outputs": [
    {
     "name": "stdout",
     "output_type": "stream",
     "text": [
      "20/20 [==============================] - 1s 20ms/step\n"
     ]
    }
   ],
   "source": [
    "y_pred = model.predict(X_test)\n",
    "y_pred = (y_pred > 0.5)"
   ]
  },
  {
   "cell_type": "markdown",
   "metadata": {
    "id": "28Y_NNUKqpzq"
   },
   "source": [
    "#  Traditional method: RNN model Performanc Evaluation"
   ]
  },
  {
   "cell_type": "code",
   "execution_count": 56,
   "metadata": {
    "colab": {
     "base_uri": "https://localhost:8080/"
    },
    "id": "l-NlY-i3mowf",
    "outputId": "e1bd4cae-4ec2-49f4-9e37-3004a34bc490"
   },
   "outputs": [
    {
     "name": "stdout",
     "output_type": "stream",
     "text": [
      "Accuracy: 0.91\n",
      "Precision: 0.91\n",
      "Recall: 1.00\n",
      "F1 Score: 0.95\n"
     ]
    }
   ],
   "source": [
    "accuracy = accuracy_score(y_test, y_pred)\n",
    "precision = precision_score(y_test, y_pred)\n",
    "recall = recall_score(y_test, y_pred)\n",
    "f1 = f1_score(y_test, y_pred)\n",
    "print(f\"Accuracy: {accuracy:.2f}\")\n",
    "print(f\"Precision: {precision:.2f}\")\n",
    "print(f\"Recall: {recall:.2f}\")\n",
    "print(f\"F1 Score: {f1:.2f}\")"
   ]
  },
  {
   "cell_type": "markdown",
   "metadata": {
    "id": "iqTglypnqkjy"
   },
   "source": [
    "# Plot training history (accuracy and loss) for visualization"
   ]
  },
  {
   "cell_type": "code",
   "execution_count": 57,
   "metadata": {
    "colab": {
     "base_uri": "https://localhost:8080/",
     "height": 383
    },
    "id": "9KyOuhuTmozU",
    "outputId": "4875bc8b-ac50-4fde-d3fb-2c3a0bebfa3b"
   },
   "outputs": [
    {
     "data": {
      "image/png": "[encoded data removed]",
      "text/plain": [
       "<Figure size 864x288 with 2 Axes>"
      ]
     },
     "metadata": {
      "needs_background": "light"
     },
     "output_type": "display_data"
    }
   ],
   "source": [
    "plt.figure(figsize=(12, 4))\n",
    "plt.subplot(1, 2, 1)\n",
    "plt.plot(history.history['accuracy'], label='Train Accuracy')\n",
    "plt.plot(history.history['val_accuracy'], label='Validation Accuracy')\n",
    "plt.xlabel('Epochs')\n",
    "plt.ylabel('Accuracy')\n",
    "plt.legend()\n",
    "plt.title('Training and Validation Accuracy')\n",
    "\n",
    "plt.subplot(1, 2, 2)\n",
    "plt.plot(history.history['loss'], label='Train Loss')\n",
    "plt.plot(history.history['val_loss'], label='Validation Loss')\n",
    "plt.xlabel('Epochs')\n",
    "plt.ylabel('Loss')\n",
    "plt.legend()\n",
    "plt.title('Training and Validation Loss')\n",
    "\n",
    "plt.tight_layout()\n",
    "plt.show()\n"
   ]
  },
  {
   "cell_type": "markdown",
   "metadata": {},
   "source": [
    "# Method 2 using Word Embedinng techniques and Pyspark Library for ML model"
   ]
  },
  {
   "cell_type": "markdown",
   "metadata": {},
   "source": [
    "## Description of Dataset used"
   ]
  },
  {
   "cell_type": "code",
   "execution_count": 58,
   "metadata": {
    "scrolled": true
   },
   "outputs": [
    {
     "name": "stdout",
     "output_type": "stream",
     "text": [
      "+------+---------+--------------------+--------------------+--------+\n",
      "|rating|     date|           variation|    verified_reviews|feedback|\n",
      "+------+---------+--------------------+--------------------+--------+\n",
      "|     5|31-Jul-18|    Charcoal Fabric |       Love my Echo!|       1|\n",
      "|     5|31-Jul-18|    Charcoal Fabric |           Loved it!|       1|\n",
      "|     4|31-Jul-18|      Walnut Finish |Sometimes while p...|       1|\n",
      "|     5|31-Jul-18|    Charcoal Fabric |I have had a lot ...|       1|\n",
      "|     5|31-Jul-18|    Charcoal Fabric |               Music|       1|\n",
      "|     5|31-Jul-18|Heather Gray Fabric |I received the ec...|       1|\n",
      "|     3|31-Jul-18|   Sandstone Fabric |Without having a ...|       1|\n",
      "|     5|31-Jul-18|    Charcoal Fabric |I think this is t...|       1|\n",
      "|     5|30-Jul-18|Heather Gray Fabric |         looks great|       1|\n",
      "|     5|30-Jul-18|Heather Gray Fabric |Love it! I’ve lis...|       1|\n",
      "|     5|30-Jul-18|    Charcoal Fabric |I sent it to my 8...|       1|\n",
      "|     5|30-Jul-18|    Charcoal Fabric |I love it! Learni...|       1|\n",
      "|     5|30-Jul-18|         Oak Finish |I purchased this ...|       1|\n",
      "|     5|30-Jul-18|    Charcoal Fabric |  Love, Love, Love!!|       1|\n",
      "|     5|30-Jul-18|         Oak Finish |Just what I expec...|       1|\n",
      "|     5|30-Jul-18|Heather Gray Fabric |I love it, wife h...|       1|\n",
      "|     5|30-Jul-18|Heather Gray Fabric |Really happy with...|       1|\n",
      "|     5|30-Jul-18|Heather Gray Fabric |We have only been...|       1|\n",
      "|     5|30-Jul-18|    Charcoal Fabric |We love the size ...|       1|\n",
      "|     4|30-Jul-18|   Sandstone Fabric |I liked the origi...|       1|\n",
      "+------+---------+--------------------+--------------------+--------+\n",
      "only showing top 20 rows\n",
      "\n"
     ]
    }
   ],
   "source": [
    "df.show()"
   ]
  },
  {
   "cell_type": "markdown",
   "metadata": {},
   "source": [
    "## Tokenization of text using Pyspark"
   ]
  },
  {
   "cell_type": "code",
   "execution_count": 59,
   "metadata": {},
   "outputs": [],
   "source": [
    "# df1 = df.withColumn('verified_reviews', when(df['verified_reviews'].isNull(), '').otherwise(df['verified_reviews']))\n",
    "\n",
    "# Replace null values in 'verified_reviews' with 'dummy_value'\n",
    "replacement_value = 'dummy_value'\n",
    "df1 = df.withColumn('verified_reviews', when(df['verified_reviews'].isNull(), replacement_value).otherwise(df['verified_reviews']))\n",
    "\n",
    "\n",
    "# Initialize the tokenizer\n",
    "tokenizer1 = Tokenizer(inputCol=\"verified_reviews\", outputCol=\"words\")\n",
    "\n",
    "# Transform the DataFrame\n",
    "df1 = tokenizer1.transform(df1)\n"
   ]
  },
  {
   "cell_type": "code",
   "execution_count": 60,
   "metadata": {
    "scrolled": true
   },
   "outputs": [
    {
     "name": "stdout",
     "output_type": "stream",
     "text": [
      "root\n",
      " |-- rating: integer (nullable = true)\n",
      " |-- date: string (nullable = true)\n",
      " |-- variation: string (nullable = true)\n",
      " |-- verified_reviews: string (nullable = true)\n",
      " |-- feedback: integer (nullable = true)\n",
      " |-- words: array (nullable = true)\n",
      " |    |-- element: string (containsNull = true)\n",
      "\n"
     ]
    }
   ],
   "source": [
    "df1.printSchema()"
   ]
  },
  {
   "cell_type": "markdown",
   "metadata": {},
   "source": [
    "## Word Embedding Word2Vec used from Pyspark Library"
   ]
  },
  {
   "cell_type": "code",
   "execution_count": 61,
   "metadata": {},
   "outputs": [],
   "source": [
    "word2vec1 = Word2Vec(vectorSize=100, minCount=5, inputCol=\"words\", outputCol=\"features\")\n",
    "word2vec_model1 = word2vec1.fit(df1)\n",
    "df1 = word2vec_model1.transform(df1)"
   ]
  },
  {
   "cell_type": "code",
   "execution_count": 62,
   "metadata": {},
   "outputs": [],
   "source": [
    "# Assemble features\n",
    "assembler = VectorAssembler(inputCols=[\"features\"], outputCol=\"padded_sequences\")\n",
    "df1 = assembler.transform(df1)\n"
   ]
  },
  {
   "cell_type": "markdown",
   "metadata": {},
   "source": [
    "## RNN model training"
   ]
  },
  {
   "cell_type": "code",
   "execution_count": 63,
   "metadata": {},
   "outputs": [],
   "source": [
    "# Split data\n",
    "train_df1, test_df1 = df1.randomSplit([0.8, 0.2], seed=42)"
   ]
  },
  {
   "cell_type": "code",
   "execution_count": 64,
   "metadata": {},
   "outputs": [],
   "source": [
    "# Build and train the RNN model\n",
    "model1 = MultilayerPerceptronClassifier(layers=[100, 2], blockSize=128, seed=1234)\n",
    "model1.setLabelCol(\"feedback\")\n",
    "model1.setFeaturesCol(\"padded_sequences\")\n",
    "model1 = model1.fit(train_df1)"
   ]
  },
  {
   "cell_type": "code",
   "execution_count": 65,
   "metadata": {},
   "outputs": [],
   "source": [
    "# Predict on test data\n",
    "predictions = model1.transform(test_df1)"
   ]
  },
  {
   "cell_type": "markdown",
   "metadata": {},
   "source": [
    "## Performance of RNN model using Word Embedding Technique & Pyspark Libraries"
   ]
  },
  {
   "cell_type": "code",
   "execution_count": 66,
   "metadata": {},
   "outputs": [],
   "source": [
    "# Evaluate model performance with Word Embedding techniques\n",
    "evaluator = MulticlassClassificationEvaluator(labelCol=\"feedback\", predictionCol=\"prediction\", metricName=\"accuracy\")\n",
    "accuracy1 = evaluator.evaluate(predictions)\n",
    "\n",
    "precision_evaluator = MulticlassClassificationEvaluator(labelCol=\"feedback\", predictionCol=\"prediction\", metricName=\"weightedPrecision\")\n",
    "precision1 = precision_evaluator.evaluate(predictions)\n",
    "\n",
    "f1_evaluator = MulticlassClassificationEvaluator(labelCol=\"feedback\", predictionCol=\"prediction\", metricName=\"f1\")\n",
    "f11 = f1_evaluator.evaluate(predictions)\n",
    "\n",
    "recall_evaluator = MulticlassClassificationEvaluator(labelCol=\"feedback\", predictionCol=\"prediction\", metricName=\"weightedRecall\")\n",
    "recall1 = recall_evaluator.evaluate(predictions)"
   ]
  },
  {
   "cell_type": "code",
   "execution_count": 67,
   "metadata": {},
   "outputs": [
    {
     "name": "stdout",
     "output_type": "stream",
     "text": [
      "Accuracy with Word2Vec embeddings: 0.93\n",
      "precision with Word2Vec embeddings: 0.89\n",
      "Recall with Word2Vec embeddings: 0.93\n",
      "F1 score with Word2Vec embeddings: 0.91\n"
     ]
    }
   ],
   "source": [
    "print(f\"Accuracy with Word2Vec embeddings: {accuracy1:.2f}\")\n",
    "print(f\"precision with Word2Vec embeddings: {precision1:.2f}\")\n",
    "print(f\"Recall with Word2Vec embeddings: {recall1:.2f}\")\n",
    "print(f\"F1 score with Word2Vec embeddings: {f11:.2f}\")"
   ]
  },
  {
   "cell_type": "markdown",
   "metadata": {},
   "source": [
    "# Comparison Analysis of both Methods"
   ]
  },
  {
   "cell_type": "code",
   "execution_count": 68,
   "metadata": {},
   "outputs": [
    {
     "name": "stdout",
     "output_type": "stream",
     "text": [
      "+-------------------------+-------------+-----------------------------+\n",
      "|  RNN Performance Metric | Traditional | PySpark_Word2Vec Embeddings |\n",
      "+-------------------------+-------------+-----------------------------+\n",
      "|         Accuracy        |     0.91    |             0.93            |\n",
      "|        Precision        |     0.91    |             0.89            |\n",
      "|          Recall         |     1.00    |             0.93            |\n",
      "|         F1 Score        |     0.95    |             0.91            |\n",
      "+-------------------------+-------------+-----------------------------+\n"
     ]
    }
   ],
   "source": [
    "from prettytable import PrettyTable\n",
    "\n",
    "# Initialize the table\n",
    "table = PrettyTable()\n",
    "\n",
    "# Define columns\n",
    "table.field_names = [\" RNN Performance Metric\", \"Traditional\", \"PySpark_Word2Vec Embeddings\"]\n",
    "\n",
    "# Define data\n",
    "metrics = [\"Accuracy\", \"Precision\", \"Recall\", \"F1 Score\"]\n",
    "traditional_scores = [accuracy, precision, recall, f1]\n",
    "word2vec_scores = [accuracy1, precision1, recall1, f11]\n",
    "\n",
    "# Add data to the table\n",
    "for metric, trad_score, word2vec_score in zip(metrics, traditional_scores, word2vec_scores):\n",
    "    table.add_row([metric, f\"{trad_score:.2f}\", f\"{word2vec_score:.2f}\"])\n",
    "\n",
    "# Print the table\n",
    "print(table)\n"
   ]
  },
  {
   "cell_type": "markdown",
   "metadata": {},
   "source": [
    "## **Critical Evaluation of Key Findings**\n",
    "\n",
    "\n",
    "In this study, we conducted a comparative analysis of sentiment analysis techniques using two approaches: a traditional RNN model and a PySpark approach with Word2Vec embeddings. The key findings are as follows:\n",
    "\n",
    "**Accuracy Evaluation**:\n",
    "\n",
    "The PySpark approach with Word2Vec embeddings achieved higher accuracy (93%) compared to the traditional RNN model (91%). This suggests that the PySpark approach is more effective in classifying sentiments accurately.\n",
    "\n",
    "**Precision and Recall**\n",
    "\n",
    "The traditional approach demonstrated higher precision (91%) compared to the PySpark approach (89%). This indicates that the traditional approach had a slightly higher reliability in its predictions.\n",
    "The traditional approach also showed perfect recall (100%), implying an ability to capture all positive sentiments. In contrast, the PySpark approach achieved a recall of 93%, indicating a slightly lower capacity to capture all positive sentiments\n",
    "\n",
    "**F1 Score**\n",
    "\n",
    "The traditional approach had a higher F1 score (95%) compared to the PySpark approach (91%). This signifies a better balance between precision and recall in the traditional approach."
   ]
  },
  {
   "cell_type": "markdown",
   "metadata": {},
   "source": [
    "+++++++++++++++++++++++++++++++++++++++++++++++++++++++++++++\n",
    "\n",
    "# **Conclusions:**\n",
    "\n",
    "Based on the research conducted, following are the conclusions derived:\n",
    "\n",
    "The PySpark approach with Word2Vec embeddings offers a scalable and efficient solution for sentiment analysis, particularly in large-scale applications.\n",
    "\n",
    "The traditional approach with an RNN model demonstrates exceptional precision and recall, indicating its potential for highly accurate sentiment classification.\n",
    "\n",
    "Both approaches have their strengths and limitations, and the choice between them should be made based on specific project requirements, dataset characteristics, and considerations for scalability.\n",
    "\n",
    "Overall, this study provides valuable insights into the performance of sentiment analysis techniques and highlights areas for further research and refinement of these approaches."
   ]
  },
  {
   "cell_type": "markdown",
   "metadata": {},
   "source": [
    "### End of Program code"
   ]
  },
  {
   "cell_type": "code",
   "execution_count": null,
   "metadata": {},
   "outputs": [],
   "source": []
  }
 ],
 "metadata": {
  "colab": {
   "provenance": []
  },
  "kernelspec": {
   "display_name": "Python 3 (ipykernel)",
   "language": "python",
   "name": "python3"
  },
  "language_info": {
   "codemirror_mode": {
    "name": "ipython",
    "version": 3
   },
   "file_extension": ".py",
   "mimetype": "text/x-python",
   "name": "python",
   "nbconvert_exporter": "python",
   "pygments_lexer": "ipython3",
   "version": "3.9.7"
  }
 },
 "nbformat": 4,
 "nbformat_minor": 1
}
